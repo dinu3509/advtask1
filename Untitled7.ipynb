{
  "nbformat": 4,
  "nbformat_minor": 0,
  "metadata": {
    "colab": {
      "provenance": [],
      "authorship_tag": "ABX9TyMcseCdlLT7b1nbELqkeiaK",
      "include_colab_link": true
    },
    "kernelspec": {
      "name": "python3",
      "display_name": "Python 3"
    },
    "language_info": {
      "name": "python"
    }
  },
  "cells": [
    {
      "cell_type": "markdown",
      "metadata": {
        "id": "view-in-github",
        "colab_type": "text"
      },
      "source": [
        "<a href=\"https://colab.research.google.com/github/dinu3509/advtask1/blob/master/Untitled7.ipynb\" target=\"_parent\"><img src=\"https://colab.research.google.com/assets/colab-badge.svg\" alt=\"Open In Colab\"/></a>"
      ]
    },
    {
      "cell_type": "code",
      "execution_count": 3,
      "metadata": {
        "colab": {
          "base_uri": "https://localhost:8080/"
        },
        "id": "LR6Wep34Em7-",
        "outputId": "a0b9661b-145d-4ab7-cad9-06bff79980b0"
      },
      "outputs": [
        {
          "output_type": "stream",
          "name": "stdout",
          "text": [
            " Hard-coded Variables for Weather Modeling\n",
            "Temperature for hardcoded coefficients at time 5 hours: 22.5\n",
            "\n",
            "\n",
            " Keyboard Input for Weather Modeling\n",
            "Enter coefficient a: 1\n",
            "Enter coefficient b: 5\n",
            "Enter coefficient c: 0\n",
            "Enter time in hours: 3\n",
            "Temperature for keyboard input coefficients at time 3.0 hours: 24.0\n",
            "\n",
            "\n",
            "Read from a File for Weather Modeling\n",
            "Temperature for file input coefficients at time 5.0 hours: 53.0\n",
            "\n",
            "\n",
            "Read from a File for Weather Modeling\n",
            "Temperature for file input coefficients at time 8.0 hours: 174.0\n",
            "\n",
            "\n",
            "Read from a File for Weather Modeling\n",
            "Temperature for file input coefficients at time 6.0 hours: 137.0\n",
            "\n",
            "\n"
          ]
        }
      ],
      "source": [
        "def temperature_modeling(a, b, c, time):\n",
        "    # Calculate temperature based on time using the quadratic equation\n",
        "    temperature = a * time**2 + b * time + c\n",
        "    return temperature\n",
        "a_hardcoded, b_hardcoded, c_hardcoded = 0.1, 2, 10\n",
        "# Display results\n",
        "print(\" Hard-coded Variables for Weather Modeling\")\n",
        "time_hardcoded = 5  # Example time value\n",
        "print(\"Temperature for hardcoded coefficients at time\", time_hardcoded, \"hours:\", temperature_modeling(a_hardcoded, b_hardcoded, c_hardcoded, time_hardcoded))\n",
        "print(\"\\n\")\n",
        "\n",
        "print(\" Keyboard Input for Weather Modeling\")\n",
        "\n",
        "a_keyboard = float(input(\"Enter coefficient a: \"))\n",
        "b_keyboard = float(input(\"Enter coefficient b: \"))\n",
        "c_keyboard = float(input(\"Enter coefficient c: \"))\n",
        "\n",
        "# Get time from user input\n",
        "time_keyboard = float(input(\"Enter time in hours: \"))\n",
        "\n",
        "# Display results\n",
        "print(\"Temperature for keyboard input coefficients at time\", time_keyboard, \"hours:\", temperature_modeling(a_keyboard, b_keyboard, c_keyboard, time_keyboard))\n",
        "print(\"\\n\")\n",
        "\n",
        "\n",
        "\n",
        "with open('weather.txt', 'r') as file:\n",
        "    lines = file.readlines()\n",
        "    for i in lines:\n",
        "      a_file, b_file, c_file, time_file = map(float, i.split())\n",
        "      print(\"Read from a File for Weather Modeling\")\n",
        "      print(\"Temperature for file input coefficients at time\", time_file, \"hours:\", temperature_modeling(a_file, b_file, c_file, time_file))\n",
        "      print(\"\\n\")\n",
        "\n",
        "# Display results\n",
        "\n",
        "\n"
      ]
    }
  ]
}