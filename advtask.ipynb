{
 "cells": [
  {
   "cell_type": "code",
   "execution_count": 40,
   "metadata": {},
   "outputs": [],
   "source": [
    "import pandas as pd"
   ]
  },
  {
   "cell_type": "code",
   "execution_count": 41,
   "metadata": {},
   "outputs": [],
   "source": [
    "df=pd.read_csv(\"spotify_millsongdata.csv\")"
   ]
  },
  {
   "cell_type": "code",
   "execution_count": 42,
   "metadata": {},
   "outputs": [
    {
     "data": {
      "text/plain": [
       "artist    0\n",
       "song      0\n",
       "link      0\n",
       "text      0\n",
       "dtype: int64"
      ]
     },
     "execution_count": 42,
     "metadata": {},
     "output_type": "execute_result"
    }
   ],
   "source": [
    "df.isnull().sum()"
   ]
  },
  {
   "cell_type": "code",
   "execution_count": 43,
   "metadata": {},
   "outputs": [],
   "source": [
    "df= df.sample(5000).drop('link', axis=1).reset_index(drop=True)"
   ]
  },
  {
   "cell_type": "code",
   "execution_count": 44,
   "metadata": {},
   "outputs": [
    {
     "data": {
      "text/html": [
       "<div>\n",
       "<style scoped>\n",
       "    .dataframe tbody tr th:only-of-type {\n",
       "        vertical-align: middle;\n",
       "    }\n",
       "\n",
       "    .dataframe tbody tr th {\n",
       "        vertical-align: top;\n",
       "    }\n",
       "\n",
       "    .dataframe thead th {\n",
       "        text-align: right;\n",
       "    }\n",
       "</style>\n",
       "<table border=\"1\" class=\"dataframe\">\n",
       "  <thead>\n",
       "    <tr style=\"text-align: right;\">\n",
       "      <th></th>\n",
       "      <th>artist</th>\n",
       "      <th>song</th>\n",
       "      <th>text</th>\n",
       "    </tr>\n",
       "  </thead>\n",
       "  <tbody>\n",
       "    <tr>\n",
       "      <th>0</th>\n",
       "      <td>Roy Orbison</td>\n",
       "      <td>Pledging My Love</td>\n",
       "      <td>Forever my darling our love will be true  \\r\\n...</td>\n",
       "    </tr>\n",
       "    <tr>\n",
       "      <th>1</th>\n",
       "      <td>Owl City</td>\n",
       "      <td>Umbrella Beach</td>\n",
       "      <td>Stands and gears, oh how the daisies bloom  \\r...</td>\n",
       "    </tr>\n",
       "    <tr>\n",
       "      <th>2</th>\n",
       "      <td>Luther Vandross</td>\n",
       "      <td>So Amazing</td>\n",
       "      <td>Love has truly been good to me  \\r\\nNot even o...</td>\n",
       "    </tr>\n",
       "    <tr>\n",
       "      <th>3</th>\n",
       "      <td>Electric Light Orchestra</td>\n",
       "      <td>On The Run</td>\n",
       "      <td>Whatever I do, wherever I go  \\r\\nThe same aft...</td>\n",
       "    </tr>\n",
       "    <tr>\n",
       "      <th>4</th>\n",
       "      <td>Ween</td>\n",
       "      <td>I Play It Off Legit</td>\n",
       "      <td>Where have you been?  \\r\\nI was out with Pat  ...</td>\n",
       "    </tr>\n",
       "  </tbody>\n",
       "</table>\n",
       "</div>"
      ],
      "text/plain": [
       "                     artist                 song  \\\n",
       "0               Roy Orbison     Pledging My Love   \n",
       "1                  Owl City       Umbrella Beach   \n",
       "2           Luther Vandross           So Amazing   \n",
       "3  Electric Light Orchestra           On The Run   \n",
       "4                      Ween  I Play It Off Legit   \n",
       "\n",
       "                                                text  \n",
       "0  Forever my darling our love will be true  \\r\\n...  \n",
       "1  Stands and gears, oh how the daisies bloom  \\r...  \n",
       "2  Love has truly been good to me  \\r\\nNot even o...  \n",
       "3  Whatever I do, wherever I go  \\r\\nThe same aft...  \n",
       "4  Where have you been?  \\r\\nI was out with Pat  ...  "
      ]
     },
     "execution_count": 44,
     "metadata": {},
     "output_type": "execute_result"
    }
   ],
   "source": [
    "df.head()"
   ]
  },
  {
   "cell_type": "code",
   "execution_count": 45,
   "metadata": {},
   "outputs": [
    {
     "data": {
      "text/plain": [
       "(5000, 3)"
      ]
     },
     "execution_count": 45,
     "metadata": {},
     "output_type": "execute_result"
    }
   ],
   "source": [
    "df.shape"
   ]
  },
  {
   "cell_type": "code",
   "execution_count": 47,
   "metadata": {},
   "outputs": [],
   "source": [
    "# Convert text to lowercase and remove unwanted characters\n",
    "df['text'] = df['text'].str.lower().replace(r'\\s+', ' ', regex=True).replace(r'\\n', ' ', regex=True)\n"
   ]
  },
  {
   "cell_type": "code",
   "execution_count": 48,
   "metadata": {},
   "outputs": [
    {
     "data": {
      "text/html": [
       "<div>\n",
       "<style scoped>\n",
       "    .dataframe tbody tr th:only-of-type {\n",
       "        vertical-align: middle;\n",
       "    }\n",
       "\n",
       "    .dataframe tbody tr th {\n",
       "        vertical-align: top;\n",
       "    }\n",
       "\n",
       "    .dataframe thead th {\n",
       "        text-align: right;\n",
       "    }\n",
       "</style>\n",
       "<table border=\"1\" class=\"dataframe\">\n",
       "  <thead>\n",
       "    <tr style=\"text-align: right;\">\n",
       "      <th></th>\n",
       "      <th>artist</th>\n",
       "      <th>song</th>\n",
       "      <th>text</th>\n",
       "    </tr>\n",
       "  </thead>\n",
       "  <tbody>\n",
       "    <tr>\n",
       "      <th>4995</th>\n",
       "      <td>ZZ Top</td>\n",
       "      <td>Party On The Patio</td>\n",
       "      <td>i found an empty house in my neighborhood, i k...</td>\n",
       "    </tr>\n",
       "    <tr>\n",
       "      <th>4996</th>\n",
       "      <td>Rascal Flatts</td>\n",
       "      <td>Feels Like Today</td>\n",
       "      <td>woke up this morning with this feeling inside ...</td>\n",
       "    </tr>\n",
       "    <tr>\n",
       "      <th>4997</th>\n",
       "      <td>Nick Cave</td>\n",
       "      <td>500 Miles</td>\n",
       "      <td>if you miss the train i'm on then you know tha...</td>\n",
       "    </tr>\n",
       "    <tr>\n",
       "      <th>4998</th>\n",
       "      <td>Kirsty Maccoll</td>\n",
       "      <td>Halloween</td>\n",
       "      <td>i must have fallen on my feet a hundred times ...</td>\n",
       "    </tr>\n",
       "    <tr>\n",
       "      <th>4999</th>\n",
       "      <td>Falco</td>\n",
       "      <td>Cowboyz And Indianz</td>\n",
       "      <td>red square white house heute rein und morgen r...</td>\n",
       "    </tr>\n",
       "  </tbody>\n",
       "</table>\n",
       "</div>"
      ],
      "text/plain": [
       "              artist                 song  \\\n",
       "4995          ZZ Top   Party On The Patio   \n",
       "4996   Rascal Flatts     Feels Like Today   \n",
       "4997       Nick Cave            500 Miles   \n",
       "4998  Kirsty Maccoll            Halloween   \n",
       "4999           Falco  Cowboyz And Indianz   \n",
       "\n",
       "                                                   text  \n",
       "4995  i found an empty house in my neighborhood, i k...  \n",
       "4996  woke up this morning with this feeling inside ...  \n",
       "4997  if you miss the train i'm on then you know tha...  \n",
       "4998  i must have fallen on my feet a hundred times ...  \n",
       "4999  red square white house heute rein und morgen r...  "
      ]
     },
     "execution_count": 48,
     "metadata": {},
     "output_type": "execute_result"
    }
   ],
   "source": [
    "df.tail(5)"
   ]
  },
  {
   "cell_type": "code",
   "execution_count": 49,
   "metadata": {},
   "outputs": [
    {
     "data": {
      "text/plain": [
       "0       forev my darl our love will be true alway and ...\n",
       "1       stand and gear , oh how the daisi bloom when c...\n",
       "2       love ha truli been good to me not even one sad...\n",
       "3       whatev i do , wherev i go the same afterglow i...\n",
       "4       where have you been ? i wa out with pat wa she...\n",
       "                              ...                        \n",
       "4995    i found an empti hous in my neighborhood , i k...\n",
       "4996    woke up thi morn with thi feel insid me that i...\n",
       "4997    if you miss the train i 'm on then you know th...\n",
       "4998    i must have fallen on my feet a hundr time or ...\n",
       "4999    red squar white hous heut rein und morgen rau ...\n",
       "Name: text, Length: 5000, dtype: object"
      ]
     },
     "execution_count": 49,
     "metadata": {},
     "output_type": "execute_result"
    }
   ],
   "source": [
    "import nltk\n",
    "from nltk.stem.porter import PorterStemmer\n",
    "stemmer = PorterStemmer()\n",
    "\n",
    "def token(txt):\n",
    "    tokens = nltk.word_tokenize(txt)\n",
    "    stemmed_tokens = [stemmer.stem(w) for w in tokens]\n",
    "    return \" \".join(stemmed_tokens)\n",
    "\n",
    "# Apply tokenization and stemming\n",
    "df['text'].apply(lambda x: token(x))\n"
   ]
  },
  {
   "cell_type": "code",
   "execution_count": 50,
   "metadata": {},
   "outputs": [],
   "source": [
    "from sklearn.feature_extraction.text import TfidfVectorizer\n",
    "from sklearn.metrics.pairwise import cosine_similarity\n",
    "tfid = TfidfVectorizer(analyzer='word', stop_words='english')"
   ]
  },
  {
   "cell_type": "code",
   "execution_count": 51,
   "metadata": {},
   "outputs": [],
   "source": [
    "matrix = tfid.fit_transform(df['text'])\n"
   ]
  },
  {
   "cell_type": "code",
   "execution_count": 52,
   "metadata": {},
   "outputs": [],
   "source": [
    "smilar = cosine_similarity(matrix)"
   ]
  },
  {
   "cell_type": "code",
   "execution_count": 70,
   "metadata": {},
   "outputs": [],
   "source": [
    "#Recommender Function\n",
    "def recommender(song_name):\n",
    "    idx = df[df['song']==song_name].index[0]\n",
    "    distance = sorted(list(enumerate(smilar[idx])), reverse=True, key = lambda x:x[1])\n",
    "    song = []\n",
    "    for s_id in distance[1:21]:\n",
    "        song.append(df.iloc[s_id[0]].song)\n",
    "    return song    \n"
   ]
  },
  {
   "cell_type": "code",
   "execution_count": 75,
   "metadata": {},
   "outputs": [
    {
     "data": {
      "text/plain": [
       "[\"Don't Lose My Number\",\n",
       " 'In Your Corner',\n",
       " 'BILLY HUNT',\n",
       " 'Goodbye Marie',\n",
       " \"Billy's Bones\",\n",
       " 'Light Of Day',\n",
       " 'Billy 1',\n",
       " 'Nobody Loves A Fat Girl',\n",
       " 'Stranger',\n",
       " 'All I Care About',\n",
       " 'Sometimes The Good Guys Finish First',\n",
       " 'Say Say Say',\n",
       " 'On The Street Where You Live',\n",
       " \"You Keep Me Hangin'on\",\n",
       " 'Complete Control',\n",
       " 'The Scientist',\n",
       " 'Lonely Street',\n",
       " 'Fannin Street',\n",
       " 'Crazyman Dance',\n",
       " \"It's A Man's Man's Man's World\"]"
      ]
     },
     "execution_count": 75,
     "metadata": {},
     "output_type": "execute_result"
    }
   ],
   "source": [
    "recommender(\"Waiting For The Man\")"
   ]
  },
  {
   "cell_type": "code",
   "execution_count": 77,
   "metadata": {},
   "outputs": [],
   "source": [
    "import pickle"
   ]
  },
  {
   "cell_type": "code",
   "execution_count": 78,
   "metadata": {},
   "outputs": [],
   "source": [
    "pickle.dump(smilar,open(\"similarity\",\"wb\"))"
   ]
  },
  {
   "cell_type": "code",
   "execution_count": 80,
   "metadata": {},
   "outputs": [],
   "source": [
    "pickle.dump(df,open(\"df\",\"wb\"))"
   ]
  }
 ],
 "metadata": {
  "kernelspec": {
   "display_name": "Python 3",
   "language": "python",
   "name": "python3"
  },
  "language_info": {
   "codemirror_mode": {
    "name": "ipython",
    "version": 3
   },
   "file_extension": ".py",
   "mimetype": "text/x-python",
   "name": "python",
   "nbconvert_exporter": "python",
   "pygments_lexer": "ipython3",
   "version": "3.12.2"
  }
 },
 "nbformat": 4,
 "nbformat_minor": 2
}
